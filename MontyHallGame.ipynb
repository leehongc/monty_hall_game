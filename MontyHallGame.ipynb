{
 "cells": [
  {
   "cell_type": "code",
   "execution_count": 65,
   "metadata": {},
   "outputs": [
    {
     "name": "stdout",
     "output_type": "stream",
     "text": [
      "There are three doors. Behind one of the doors there is a vintage Porche. \n",
      "While the other two doors contains black holes in which you will be sucked in immediately.  \n",
      "Which door do you chose?1\n",
      "You chose door number 1\n",
      "prize is behind door 3\n",
      "There is a blackhole behind door number 2\n",
      "Would you like to switch to door number 3?  Yes or Noy\n",
      "Incorrect input. Try again...[yes/no]yes\n",
      "You've switched to door number 3\n",
      "Congratulations, you won the Porsche!\n"
     ]
    }
   ],
   "source": [
    "import random\n",
    "\n",
    "doors = [1,2,3]\n",
    "item = random.choice(doors)\n",
    "\n",
    "userpick = int(input('There are three doors. Behind one of the doors there is a vintage Porche. \\nWhile the other two doors contains black holes in which you will be sucked in immediately.  \\nWhich door do you chose?'))\n",
    "while userpick not in doors:\n",
    "    userpick = int(input('Your input is out of range.  Try again...'))\n",
    "\n",
    "print('You chose door number {}'.format(userpick))\n",
    "\n",
    "print('prize is behind door {}'.format(item))\n",
    "\n",
    "reveal = [i for i in doors if i not in (item, userpick)][0]\n",
    "print('There is a blackhole behind door number {}'.format(reveal))\n",
    "\n",
    "notrevealed = [i for i in doors if i not in (reveal, userpick)][0]\n",
    "change_options = ['yes', 'no']\n",
    "change = input('Would you like to switch to door number {}?  Yes or No'.format(notrevealed)).lower()\n",
    "while change not in change_options:\n",
    "    change = (input('Incorrect input. Try again...[yes/no]'))\n",
    "            \n",
    "if change == 'no':\n",
    "    if userpick == item:\n",
    "        print('Congratulations, you won the Porsche!')\n",
    "    else:\n",
    "        print('Black hole, better luck next time!')\n",
    "else:\n",
    "    print('You\\'ve switched to door number {}'.format(notrevealed))\n",
    "    if notrevealed == item:\n",
    "        print('Congratulations, you won the Porsche!')\n",
    "    else:\n",
    "        print('Black hole, better luck next time!')"
   ]
  },
  {
   "cell_type": "code",
   "execution_count": 69,
   "metadata": {},
   "outputs": [
    {
     "name": "stdout",
     "output_type": "stream",
     "text": [
      "There are three doors. Behind one of the doors there is a vintage Porche. \n",
      "While the other two doors contains black holes in which you will be sucked in immediately.  \n",
      "Which door do you chose?1\n",
      "You chose door number 1\n",
      "There is a blackhole behind door number 2\n",
      "Would you like to switch to door number 3?  Yes or Noyes\n",
      "You've switched to door number 3\n",
      "Congratulations, you won the Porsche!\n"
     ]
    }
   ],
   "source": [
    "def door_choice():\n",
    "    doors = [1,2,3]\n",
    "    item = random.choice(doors)\n",
    "\n",
    "    userpick = int(input('There are three doors. Behind one of the doors there is a vintage Porche. \\nWhile the other two doors contains black holes in which you will be sucked in immediately.  \\nWhich door do you chose?'))\n",
    "    while userpick not in doors:\n",
    "        userpick = int(input('Your input is out of range.  Try again...'))\n",
    "\n",
    "    print('You chose door number {}'.format(userpick))\n",
    "\n",
    "def change_choice():\n",
    "    reveal = [i for i in doors if i not in (item, userpick)][0]\n",
    "    print('There is a blackhole behind door number {}'.format(reveal))\n",
    "\n",
    "    notrevealed = [i for i in doors if i not in (reveal, userpick)][0]\n",
    "    change_options = ['yes', 'no', 'y', 'n']\n",
    "    change = input('Would you like to switch to door number {}?  Yes or No'.format(notrevealed)).lower()\n",
    "    while change not in change_options:\n",
    "        change = (input('Incorrect input. Try again...[yes/no]'))\n",
    "                \n",
    "    if change == 'no':\n",
    "        if userpick == item:\n",
    "            print('Congratulations, you won the Porsche!')\n",
    "        else:\n",
    "            print('Black hole, better luck next time!')\n",
    "\n",
    "    else:\n",
    "        print('You\\'ve switched to door number {}'.format(notrevealed))\n",
    "        if notrevealed == item:\n",
    "            print('Congratulations, you won the Porsche!')\n",
    "        else:\n",
    "            print('Black hole, better luck next time!')\n",
    "\n",
    "def main():\n",
    "    door_choice()\n",
    "    change_choice()\n",
    "    \n",
    "if __name__ == \"__main__\":\n",
    "    main()"
   ]
  }
 ],
 "metadata": {
  "kernelspec": {
   "display_name": "Python 3",
   "language": "python",
   "name": "python3"
  },
  "language_info": {
   "codemirror_mode": {
    "name": "ipython",
    "version": 3
   },
   "file_extension": ".py",
   "mimetype": "text/x-python",
   "name": "python",
   "nbconvert_exporter": "python",
   "pygments_lexer": "ipython3",
   "version": "3.7.3"
  }
 },
 "nbformat": 4,
 "nbformat_minor": 2
}
