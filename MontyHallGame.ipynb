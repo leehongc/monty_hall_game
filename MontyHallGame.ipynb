{
 "cells": [
  {
   "cell_type": "code",
   "execution_count": 139,
   "metadata": {},
   "outputs": [
    {
     "name": "stdout",
     "output_type": "stream",
     "text": [
      "There are three doors. Behind one of the doors there is a vintage Porche. \n",
      "While the other two doors contains black holes in which you will be sucked in immediately.  \n",
      "Which door do you chose?2\n",
      "You chose door number 2\n",
      "Would you like to switch to door number 3?no\n",
      "Darkness\n"
     ]
    }
   ],
   "source": [
    "item = 1\n",
    "userpick = int(input('There are three doors. Behind one of the doors there is a vintage Porche. \\nWhile the other two doors contains black holes in which you will be sucked in immediately.  \\nWhich door do you chose?'))\n",
    "doors = [1,2,3]\n",
    "\n",
    "while userpick not in doors:\n",
    "    \n",
    "    userpick = int(input('Make sure to select either door 1, 2, or 3'))\n",
    "print('You chose door number {}'.format(userpick))\n",
    "\n",
    "reveal = [i for i in doors if i not in (item, userpick)]\n",
    "reveal[0]\n",
    "\n",
    "change = input('Would you like to switch to door number {}?'.format(doors[6-item-reveal-1])).lower()\n",
    "if change == 'no':\n",
    "    if userpick == item:\n",
    "        print('Conratulations!')\n",
    "    else:\n",
    "        print('Darkness')"
   ]
  },
  {
   "cell_type": "code",
   "execution_count": 161,
   "metadata": {},
   "outputs": [
    {
     "name": "stdout",
     "output_type": "stream",
     "text": [
      "You chose door number 3\n",
      "revealing 1\n",
      "Conratulations!\n"
     ]
    }
   ],
   "source": [
    "item = 2\n",
    "userpick = 3\n",
    "doors = [1,2,3]\n",
    "print('You chose door number {}'.format(userpick))\n",
    "\n",
    "reveal = [i for i in doors if i not in (item, userpick)]\n",
    "print('revealing', reveal[0])\n",
    "\n",
    "change = 'yes'\n",
    "\n",
    "if change == 'no':\n",
    "    if userpick == item:\n",
    "        print('Conratulations!')\n",
    "    else:\n",
    "        print('Darkness')\n",
    "        \n",
    "else:\n",
    "    newuser = [i for i in doors if i not in (reveal[0], userpick)]\n",
    "    if newuser[0] == item:\n",
    "        print('Conratulations!')\n",
    "    else:\n",
    "        print('Darkness')"
   ]
  },
  {
   "cell_type": "code",
   "execution_count": 195,
   "metadata": {},
   "outputs": [
    {
     "name": "stdout",
     "output_type": "stream",
     "text": [
      "There are three doors. Behind one of the doors there is a vintage Porche. \n",
      "While the other two doors contains black holes in which you will be sucked in immediately.  \n",
      "Which door do you chose?1\n",
      "You chose door number 1\n",
      "revealing 2\n",
      "Would you like to switch to door number 3?yes\n",
      "Darkness\n"
     ]
    }
   ],
   "source": [
    "import random\n",
    "\n",
    "doors = [1,2,3]\n",
    "item = random.choice(doors)\n",
    "\n",
    "userpick = int(input('There are three doors. Behind one of the doors there is a vintage Porche. \\nWhile the other two doors contains black holes in which you will be sucked in immediately.  \\nWhich door do you chose?'))\n",
    "print('You chose door number {}'.format(userpick))\n",
    "\n",
    "reveal = [i for i in doors if i not in (item, userpick)][0]\n",
    "print('revealing', reveal)\n",
    "\n",
    "notrevealed = [i for i in doors if i not in (reveal, userpick)][0]\n",
    "change = input('Would you like to switch to door number {}?'.format(notrevealed))\n",
    "# check for correct input\n",
    "               \n",
    "if change == 'no':\n",
    "    if userpick == item:\n",
    "        print('Conratulations!')\n",
    "    else:\n",
    "        print('Darkness')\n",
    "        \n",
    "else:\n",
    "    if notrevealed == item:\n",
    "        print('Conratulations!')\n",
    "    else:\n",
    "        print('Darkness')"
   ]
  },
  {
   "cell_type": "code",
   "execution_count": null,
   "metadata": {},
   "outputs": [],
   "source": []
  },
  {
   "cell_type": "code",
   "execution_count": null,
   "metadata": {},
   "outputs": [],
   "source": []
  }
 ],
 "metadata": {
  "kernelspec": {
   "display_name": "Python 3",
   "language": "python",
   "name": "python3"
  },
  "language_info": {
   "codemirror_mode": {
    "name": "ipython",
    "version": 3
   },
   "file_extension": ".py",
   "mimetype": "text/x-python",
   "name": "python",
   "nbconvert_exporter": "python",
   "pygments_lexer": "ipython3",
   "version": "3.7.3"
  }
 },
 "nbformat": 4,
 "nbformat_minor": 2
}
