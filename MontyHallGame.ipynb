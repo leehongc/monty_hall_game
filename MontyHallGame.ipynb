{
 "cells": [
  {
   "cell_type": "code",
   "execution_count": 2,
   "metadata": {},
   "outputs": [
    {
     "name": "stdout",
     "output_type": "stream",
     "text": [
      "There are three doors. Behind one of the doors there is a vintage Porche. \n",
      "While the other two doors contains black holes in which you will be sucked in immediately.  \n",
      "Which door do you chose?2\n",
      "You chose door number 2\n",
      "There is a blackhole behind door number 1\n",
      "Would you like to switch to door number 3?yes\n",
      "Darkness\n"
     ]
    }
   ],
   "source": [
    "import random\n",
    "\n",
    "doors = [1,2,3]\n",
    "item = random.choice(doors)\n",
    "\n",
    "userpick = int(input('There are three doors. Behind one of the doors there is a vintage Porche. \\nWhile the other two doors contains black holes in which you will be sucked in immediately.  \\nWhich door do you chose?'))\n",
    "print('You chose door number {}'.format(userpick))\n",
    "\n",
    "reveal = [i for i in doors if i not in (item, userpick)][0]\n",
    "print('There is a blackhole behind door number {}'.format(reveal))\n",
    "\n",
    "notrevealed = [i for i in doors if i not in (reveal, userpick)][0]\n",
    "change = input('Would you like to switch to door number {}?'.format(notrevealed))\n",
    "# check for correct input\n",
    "               \n",
    "if change == 'no':\n",
    "    if userpick == item:\n",
    "        print('Congratulations!')\n",
    "    else:\n",
    "        print('Darkness')\n",
    "        \n",
    "else:\n",
    "    if notrevealed == item:\n",
    "        print('Congratulations!')\n",
    "    else:\n",
    "        print('Darkness')"
   ]
  }
 ],
 "metadata": {
  "kernelspec": {
   "display_name": "Python 3",
   "language": "python",
   "name": "python3"
  },
  "language_info": {
   "codemirror_mode": {
    "name": "ipython",
    "version": 3
   },
   "file_extension": ".py",
   "mimetype": "text/x-python",
   "name": "python",
   "nbconvert_exporter": "python",
   "pygments_lexer": "ipython3",
   "version": "3.7.3"
  }
 },
 "nbformat": 4,
 "nbformat_minor": 2
}
