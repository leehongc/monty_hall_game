{
 "cells": [
  {
   "cell_type": "markdown",
   "metadata": {},
   "source": [
    "### Set Up"
   ]
  },
  {
   "cell_type": "code",
   "execution_count": 43,
   "metadata": {},
   "outputs": [],
   "source": [
    "import sys\n",
    "import random\n",
    "\n",
    "def custom_input(question):\n",
    "    user_response = input(question).strip().lower()\n",
    "    return user_response\n",
    "    \n",
    "def monty_game():\n",
    "    doors = [1,2,3]\n",
    "    prize = random.choice(doors)\n",
    "    ask_for_door = 'There are three doors. Behind one of the doors there is a vintage Porche. \\nWhile the other two doors contains black holes in which you will be sucked in immediately.  \\nWhich door do you chose?'\n",
    "    userpick = int(custom_input(ask_for_door))\n",
    "    \n",
    "    while userpick not in doors:\n",
    "        userpick = int(custom_input('Your input is out of range.  Try again...'))\n",
    "    print('You chose door number {}'.format(userpick))\n",
    "    reveal = [i for i in doors if i not in (prize, userpick)][0]\n",
    "    print('There is a blackhole behind door number {}'.format(reveal))\n",
    "    \n",
    "    notrevealed = [i for i in doors if i not in (reveal, userpick)][0]\n",
    "    change_options = ['yes', 'no']\n",
    "    switch_door = 'Would you like to switch to door number {}?  Yes or No'.format(notrevealed)\n",
    "    change = custom_input(switch_door)\n",
    "    \n",
    "    while change not in change_options:\n",
    "        change = (custom_input('Incorrect input. Try again...[yes/no]'))\n",
    "                \n",
    "    if change == 'no':\n",
    "        if userpick == prize:\n",
    "            print('Congratulations, you won the Porsche!')\n",
    "        else:\n",
    "            print('Black hole, better luck next time!')\n",
    "    else:\n",
    "        print('You\\'ve switched to door number {}'.format(notrevealed))\n",
    "        if notrevealed == prize:\n",
    "            print('Congratulations, you won the Porsche!')\n",
    "        else:\n",
    "            print('Black hole, better luck next time!')\n",
    "            \n",
    "def quick_game(switch_choice, number_of_games):\n",
    "    doors = [1,2,3]\n",
    "    games_played = 0\n",
    "    total_wins = 0\n",
    "    for i in range (int(number_of_games)):\n",
    "        prize = random.choice(doors)\n",
    "        userpick = random.choice(doors)\n",
    "        reveal = [i for i in doors if i not in (prize, userpick)][0]\n",
    "        notrevealed = [i for i in doors if i not in (reveal, userpick)][0]\n",
    "        change = switch_choice.lower()\n",
    "        if change == 'no':\n",
    "            if userpick == prize:\n",
    "                total_wins += 1\n",
    "                games_played += 1\n",
    "            else:\n",
    "                games_played += 1\n",
    "        else:\n",
    "            if notrevealed == prize:\n",
    "                total_wins += 1\n",
    "                games_played += 1\n",
    "            else:\n",
    "                games_played += 1\n",
    "            \n",
    "    print('Out of {} games, you have won {} times.'. format(games_played, total_wins))\n",
    "\n",
    "    \n",
    "def main(argv):\n",
    "    if len(argv) > 0:\n",
    "        rawchange = int(argv[0])\n",
    "        if rawchange == 0:\n",
    "            change = 'no'\n",
    "        else:\n",
    "            change = 'yes'\n",
    "        number_of_games = int(argv[1])\n",
    "        quick_game(change, number_of_games)\n",
    "    else:\n",
    "        monty_game()\n",
    "    \n",
    "    \n",
    "#if __name__ == \"__main__\":\n",
    "#    main(sys.argv[1:])"
   ]
  },
  {
   "cell_type": "markdown",
   "metadata": {},
   "source": [
    "### Quick Simulation"
   ]
  },
  {
   "cell_type": "code",
   "execution_count": 41,
   "metadata": {},
   "outputs": [
    {
     "name": "stdout",
     "output_type": "stream",
     "text": [
      "Out of 1000 games, you have won 682 times.\n"
     ]
    }
   ],
   "source": [
    "quick_game('yes', 1000)"
   ]
  },
  {
   "cell_type": "code",
   "execution_count": 38,
   "metadata": {},
   "outputs": [
    {
     "name": "stdout",
     "output_type": "stream",
     "text": [
      "Out of 1000 games, you have won 311 times.\n"
     ]
    }
   ],
   "source": [
    "quick_game('no', 1000)"
   ]
  }
 ],
 "metadata": {
  "kernelspec": {
   "display_name": "Python 3",
   "language": "python",
   "name": "python3"
  },
  "language_info": {
   "codemirror_mode": {
    "name": "ipython",
    "version": 3
   },
   "file_extension": ".py",
   "mimetype": "text/x-python",
   "name": "python",
   "nbconvert_exporter": "python",
   "pygments_lexer": "ipython3",
   "version": "3.7.3"
  }
 },
 "nbformat": 4,
 "nbformat_minor": 2
}
